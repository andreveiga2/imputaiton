{
 "cells": [
  {
   "cell_type": "markdown",
   "metadata": {},
   "source": [
    "## Work Notes Related to Imputation Work given by Andre Veiga\n",
    "\n",
    "In essence we have 3 type of contracts, call them (0, 5, 10). We have rates associated with each type of contract. The data that we have will only have rate values when the particular contract is chosen. We need to impute the rest of the values.  "
   ]
  },
  {
   "cell_type": "markdown",
   "metadata": {},
   "source": [
    "### How the Matlab Script Works?\n",
    "\n",
    "We first load the dataset into matlab using load('data_subsample.mat'); \n",
    "\n",
    "To visualize this in python we first have to store it in 'v7' so we use **save('data_subsample.mat', '-v7');** in matlab. Then in Python:"
   ]
  },
  {
   "cell_type": "code",
   "execution_count": 3,
   "metadata": {},
   "outputs": [
    {
     "data": {
      "text/plain": [
       "{'__globals__': [],\n",
       " '__header__': 'MATLAB 5.0 MAT-file, Platform: GLNXA64, Created on: Sun Nov  4 12:50:58 2018',\n",
       " '__version__': '1.0',\n",
       " 'decision_gar': array([[10],\n",
       "        [10],\n",
       "        [10],\n",
       "        ...,\n",
       "        [10],\n",
       "        [10],\n",
       "        [ 5]], dtype=uint8),\n",
       " 'g_nr': array([[4],\n",
       "        [4],\n",
       "        [1],\n",
       "        ...,\n",
       "        [4],\n",
       "        [1],\n",
       "        [1]], dtype=uint8),\n",
       " 'obs_r0': array([[9.99],\n",
       "        [9.99],\n",
       "        [9.99],\n",
       "        ...,\n",
       "        [9.99],\n",
       "        [9.99],\n",
       "        [9.99]]),\n",
       " 'obs_r10': array([[0.05894766],\n",
       "        [0.05723996],\n",
       "        [0.06752951],\n",
       "        ...,\n",
       "        [0.06307468],\n",
       "        [0.07470413],\n",
       "        [9.99      ]]),\n",
       " 'obs_r5': array([[9.99      ],\n",
       "        [9.99      ],\n",
       "        [9.99      ],\n",
       "        ...,\n",
       "        [9.99      ],\n",
       "        [9.99      ],\n",
       "        [0.07535734]]),\n",
       " 'phi': array([[21614.215 ],\n",
       "        [ 7882.6049],\n",
       "        [14070.38  ],\n",
       "        ...,\n",
       "        [15680.844 ],\n",
       "        [32356.633 ],\n",
       "        [21743.009 ]]),\n",
       " 'tt': array([[ 1],\n",
       "        [ 1],\n",
       "        [ 1],\n",
       "        ...,\n",
       "        [24],\n",
       "        [24],\n",
       "        [24]], dtype=uint8)}"
      ]
     },
     "execution_count": 3,
     "metadata": {},
     "output_type": "execute_result"
    }
   ],
   "source": [
    "#all imports\n",
    "import sklearn.cluster as cluster\n",
    "import sklearn.mixture as mixture\n",
    "from sklearn import datasets\n",
    "from sklearn.model_selection import cross_val_predict\n",
    "from sklearn import linear_model\n",
    "import matplotlib.pyplot as plt\n",
    "from sklearn.model_selection import cross_val_score\n",
    "from sklearn import metrics\n",
    "from sklearn import svm\n",
    "from sklearn.model_selection import KFold\n",
    "from sklearn.gaussian_process import GaussianProcessRegressor\n",
    "from sklearn.ensemble import GradientBoostingRegressor\n",
    "from sklearn.gaussian_process import GaussianProcessRegressor\n",
    "from sklearn.neural_network import MLPRegressor\n",
    "import sklearn.decomposition as decomp\n",
    "from sklearn.model_selection import train_test_split\n",
    "import scipy.io as sio\n",
    "import numpy as np\n",
    "from scipy import stats\n",
    "\n",
    "test = sio.loadmat('data_subsample.mat')\n",
    "test"
   ]
  },
  {
   "cell_type": "code",
   "execution_count": 4,
   "metadata": {},
   "outputs": [],
   "source": [
    "# storing all variables as numpy arrays for ease of operations\n",
    "#np_a = np_a.reshape(mat_a.size).transpose()\n",
    "decision_gar = np.array(test['decision_gar'].tolist())\n",
    "g_nr = np.array(test['g_nr'].tolist())\n",
    "obs_r0 = np.array(test['obs_r0'].tolist())\n",
    "obs_r5 = np.array(test['obs_r5'].tolist())\n",
    "obs_r10 = np.array(test['obs_r10'].tolist())\n",
    "phi = np.array(test['phi'].tolist())\n",
    "tt = np.array(test['tt'].tolist())"
   ]
  },
  {
   "cell_type": "code",
   "execution_count": 5,
   "metadata": {},
   "outputs": [],
   "source": [
    "#if you need to transpose all of them from (11099 X 1) to (1X 11099)\n",
    "decision_gar = decision_gar.reshape(11099).T\n",
    "g_nr = g_nr.reshape(11099).T\n",
    "obs_r0 = obs_r0.reshape(11099).T\n",
    "obs_r5 = obs_r5.reshape(11099).T\n",
    "obs_r10 = obs_r10.reshape(11099).T\n",
    "phi = phi.reshape(11099).T\n",
    "tt = tt.reshape(11099).T"
   ]
  },
  {
   "cell_type": "code",
   "execution_count": 6,
   "metadata": {},
   "outputs": [
    {
     "data": {
      "text/plain": [
       "DescribeResult(nobs=11099, minmax=(0.05098441, 9.99), mean=8.607397066644742, variance=11.813117008860784, skewness=-2.083509491034911, kurtosis=2.3410144613692756)"
      ]
     },
     "execution_count": 6,
     "metadata": {},
     "output_type": "execute_result"
    }
   ],
   "source": [
    "np.seterr(divide='ignore', invalid='ignore')\n",
    "stats.describe(obs_r0)"
   ]
  },
  {
   "cell_type": "markdown",
   "metadata": {},
   "source": [
    "Then we use this command to call the impute function, \n",
    "**hh = impute( g_nr, phi, tt, decision_gar, obs_r0, obs_r5, obs_r10, method);** This is discussed in detail in impute_script_notes"
   ]
  },
  {
   "cell_type": "code",
   "execution_count": 7,
   "metadata": {},
   "outputs": [],
   "source": [
    "def impute( g_nr, phi, time, decision, obs_r0, obs_r5, obs_r10, method):\n",
    "    GAR_levels = [0, 5, 10]\n",
    "    for i in xrange(1, 5):\n",
    "        print \"Imputing group: \", i, \", Method: \", method\n",
    "        \n",
    "        g_nr_i, phi_i, time_i = [], [], []\n",
    "        # could use iter to create code more pythonic but won't serve\n",
    "        # any other purpose\n",
    "        \n",
    "        for a in xrange(len(g_nr)):\n",
    "            \n",
    "            if g_nr[a] == i:\n",
    "                g_nr_i.append(g_nr[a])\n",
    "                phi_i.append(phi[a])\n",
    "                time_i.append(time[a])\n",
    "        \n",
    "        for gar_j in GAR_levels:\n",
    "            \n",
    "            g_nr_ij, phi_ij, time_ij, r_ij = [], [], [], []\n",
    "            for a in xrange(len(g_nr)):\n",
    "                \n",
    "                if g_nr[a] == i and decision[a] == gar_j:\n",
    "                    g_nr_ij.append(g_nr[a])\n",
    "                    phi_ij.append(phi[a])\n",
    "                    time_ij.append(time[a])\n",
    "                    \n",
    "                    if gar_j ==0:\n",
    "                        r_ij = obs_r0[a]\n",
    "                    elif gar_j == 5:\n",
    "                        r_ij = obs_r5[a]\n",
    "                    else:\n",
    "                        r_ij = obs_r10[a]\n",
    "        \n",
    "        predictors = [phi_ij, time_ij]\n",
    "        target = [r_ij]\n",
    "        predict_at = [phi_i, time_i]\n",
    "        return (predictors, target, predict_at)\n",
    "        #r_predicted_ij = impute_inner(predictors, target, predict_at, method)\n",
    "        "
   ]
  },
  {
   "cell_type": "code",
   "execution_count": 8,
   "metadata": {},
   "outputs": [],
   "source": [
    "def accuracy(y, pred_y):\n",
    "    acc = sum(abs(y-pred_y))/len(y)\n",
    "    return acc; "
   ]
  },
  {
   "cell_type": "code",
   "execution_count": 10,
   "metadata": {},
   "outputs": [],
   "source": [
    "# KFold used to split data into 2 parts\n",
    "# It was important to shuffle the data otherwise models gave terrible results\n",
    "kf = KFold(n_splits=2, shuffle=True)"
   ]
  },
  {
   "cell_type": "code",
   "execution_count": 11,
   "metadata": {},
   "outputs": [
    {
     "name": "stdout",
     "output_type": "stream",
     "text": [
      "Imputing group:  1 , Method:  RF\n"
     ]
    },
    {
     "ename": "ValueError",
     "evalue": "Found input variables with inconsistent numbers of samples: [2, 1]",
     "output_type": "error",
     "traceback": [
      "\u001b[0;31m---------------------------------------------------------------------------\u001b[0m",
      "\u001b[0;31mValueError\u001b[0m                                Traceback (most recent call last)",
      "\u001b[0;32m<ipython-input-11-b7c912203613>\u001b[0m in \u001b[0;36m<module>\u001b[0;34m()\u001b[0m\n\u001b[1;32m      5\u001b[0m \u001b[0;31m#cross_val_predict used to get predicted values\u001b[0m\u001b[0;34m\u001b[0m\u001b[0;34m\u001b[0m\u001b[0m\n\u001b[1;32m      6\u001b[0m \u001b[0;31m#cv set to KF\u001b[0m\u001b[0;34m\u001b[0m\u001b[0;34m\u001b[0m\u001b[0m\n\u001b[0;32m----> 7\u001b[0;31m \u001b[0mpredicted\u001b[0m \u001b[0;34m=\u001b[0m \u001b[0mcross_val_predict\u001b[0m\u001b[0;34m(\u001b[0m\u001b[0mlr\u001b[0m\u001b[0;34m,\u001b[0m \u001b[0mX\u001b[0m\u001b[0;34m,\u001b[0m \u001b[0my\u001b[0m\u001b[0;34m,\u001b[0m \u001b[0mcv\u001b[0m\u001b[0;34m=\u001b[0m\u001b[0mkf\u001b[0m\u001b[0;34m)\u001b[0m\u001b[0;34m\u001b[0m\u001b[0m\n\u001b[0m\u001b[1;32m      8\u001b[0m \u001b[0;31m#returns R square\u001b[0m\u001b[0;34m\u001b[0m\u001b[0;34m\u001b[0m\u001b[0m\n\u001b[1;32m      9\u001b[0m \u001b[0mscores\u001b[0m \u001b[0;34m=\u001b[0m \u001b[0mcross_val_score\u001b[0m\u001b[0;34m(\u001b[0m\u001b[0mlr\u001b[0m\u001b[0;34m,\u001b[0m \u001b[0mX\u001b[0m\u001b[0;34m,\u001b[0m \u001b[0my\u001b[0m\u001b[0;34m,\u001b[0m \u001b[0mcv\u001b[0m\u001b[0;34m=\u001b[0m\u001b[0mkf\u001b[0m\u001b[0;34m)\u001b[0m\u001b[0;34m\u001b[0m\u001b[0m\n",
      "\u001b[0;32m/home/chaitanya/.local/lib/python2.7/site-packages/sklearn/model_selection/_validation.pyc\u001b[0m in \u001b[0;36mcross_val_predict\u001b[0;34m(estimator, X, y, groups, cv, n_jobs, verbose, fit_params, pre_dispatch, method)\u001b[0m\n\u001b[1;32m    761\u001b[0m     \u001b[0;34m>>\u001b[0m\u001b[0;34m>\u001b[0m \u001b[0my_pred\u001b[0m \u001b[0;34m=\u001b[0m \u001b[0mcross_val_predict\u001b[0m\u001b[0;34m(\u001b[0m\u001b[0mlasso\u001b[0m\u001b[0;34m,\u001b[0m \u001b[0mX\u001b[0m\u001b[0;34m,\u001b[0m \u001b[0my\u001b[0m\u001b[0;34m,\u001b[0m \u001b[0mcv\u001b[0m\u001b[0;34m=\u001b[0m\u001b[0;36m3\u001b[0m\u001b[0;34m)\u001b[0m\u001b[0;34m\u001b[0m\u001b[0m\n\u001b[1;32m    762\u001b[0m     \"\"\"\n\u001b[0;32m--> 763\u001b[0;31m     \u001b[0mX\u001b[0m\u001b[0;34m,\u001b[0m \u001b[0my\u001b[0m\u001b[0;34m,\u001b[0m \u001b[0mgroups\u001b[0m \u001b[0;34m=\u001b[0m \u001b[0mindexable\u001b[0m\u001b[0;34m(\u001b[0m\u001b[0mX\u001b[0m\u001b[0;34m,\u001b[0m \u001b[0my\u001b[0m\u001b[0;34m,\u001b[0m \u001b[0mgroups\u001b[0m\u001b[0;34m)\u001b[0m\u001b[0;34m\u001b[0m\u001b[0m\n\u001b[0m\u001b[1;32m    764\u001b[0m \u001b[0;34m\u001b[0m\u001b[0m\n\u001b[1;32m    765\u001b[0m     \u001b[0mcv\u001b[0m \u001b[0;34m=\u001b[0m \u001b[0mcheck_cv\u001b[0m\u001b[0;34m(\u001b[0m\u001b[0mcv\u001b[0m\u001b[0;34m,\u001b[0m \u001b[0my\u001b[0m\u001b[0;34m,\u001b[0m \u001b[0mclassifier\u001b[0m\u001b[0;34m=\u001b[0m\u001b[0mis_classifier\u001b[0m\u001b[0;34m(\u001b[0m\u001b[0mestimator\u001b[0m\u001b[0;34m)\u001b[0m\u001b[0;34m)\u001b[0m\u001b[0;34m\u001b[0m\u001b[0m\n",
      "\u001b[0;32m/home/chaitanya/.local/lib/python2.7/site-packages/sklearn/utils/validation.pyc\u001b[0m in \u001b[0;36mindexable\u001b[0;34m(*iterables)\u001b[0m\n\u001b[1;32m    253\u001b[0m         \u001b[0;32melse\u001b[0m\u001b[0;34m:\u001b[0m\u001b[0;34m\u001b[0m\u001b[0m\n\u001b[1;32m    254\u001b[0m             \u001b[0mresult\u001b[0m\u001b[0;34m.\u001b[0m\u001b[0mappend\u001b[0m\u001b[0;34m(\u001b[0m\u001b[0mnp\u001b[0m\u001b[0;34m.\u001b[0m\u001b[0marray\u001b[0m\u001b[0;34m(\u001b[0m\u001b[0mX\u001b[0m\u001b[0;34m)\u001b[0m\u001b[0;34m)\u001b[0m\u001b[0;34m\u001b[0m\u001b[0m\n\u001b[0;32m--> 255\u001b[0;31m     \u001b[0mcheck_consistent_length\u001b[0m\u001b[0;34m(\u001b[0m\u001b[0;34m*\u001b[0m\u001b[0mresult\u001b[0m\u001b[0;34m)\u001b[0m\u001b[0;34m\u001b[0m\u001b[0m\n\u001b[0m\u001b[1;32m    256\u001b[0m     \u001b[0;32mreturn\u001b[0m \u001b[0mresult\u001b[0m\u001b[0;34m\u001b[0m\u001b[0m\n\u001b[1;32m    257\u001b[0m \u001b[0;34m\u001b[0m\u001b[0m\n",
      "\u001b[0;32m/home/chaitanya/.local/lib/python2.7/site-packages/sklearn/utils/validation.pyc\u001b[0m in \u001b[0;36mcheck_consistent_length\u001b[0;34m(*arrays)\u001b[0m\n\u001b[1;32m    228\u001b[0m     \u001b[0;32mif\u001b[0m \u001b[0mlen\u001b[0m\u001b[0;34m(\u001b[0m\u001b[0muniques\u001b[0m\u001b[0;34m)\u001b[0m \u001b[0;34m>\u001b[0m \u001b[0;36m1\u001b[0m\u001b[0;34m:\u001b[0m\u001b[0;34m\u001b[0m\u001b[0m\n\u001b[1;32m    229\u001b[0m         raise ValueError(\"Found input variables with inconsistent numbers of\"\n\u001b[0;32m--> 230\u001b[0;31m                          \" samples: %r\" % [int(l) for l in lengths])\n\u001b[0m\u001b[1;32m    231\u001b[0m \u001b[0;34m\u001b[0m\u001b[0m\n\u001b[1;32m    232\u001b[0m \u001b[0;34m\u001b[0m\u001b[0m\n",
      "\u001b[0;31mValueError\u001b[0m: Found input variables with inconsistent numbers of samples: [2, 1]"
     ]
    }
   ],
   "source": [
    "method = 'RF'\n",
    "X, y, _ = impute( g_nr, phi, tt, decision_gar, obs_r0, obs_r5, obs_r10, method)\n",
    "#applying linear regression\n",
    "lr = linear_model.LinearRegression(normalize=True)\n",
    "#cross_val_predict used to get predicted values\n",
    "#cv set to KF\n",
    "predicted = cross_val_predict(lr, X, y, cv=kf)\n",
    "#returns R square\n",
    "scores = cross_val_score(lr, X, y, cv=kf)\n",
    "print('For Linear Regression: \\n')\n",
    "print(scores);\n",
    "#for plotting\n",
    "fig, ax = plt.subplots()\n",
    "ax.scatter(y1, predicted, edgecolors=(0, 0, 0))\n",
    "ax.plot([y1.min(), y1.max()], [y1.min(), y1.max()], 'k--', lw=4)\n",
    "ax.set_xlabel('Measured')\n",
    "ax.set_ylabel('Predicted')\n",
    "plt.show()\n",
    "print('error rate : ')\n",
    "print(accuracy(y1,predicted));"
   ]
  },
  {
   "cell_type": "code",
   "execution_count": null,
   "metadata": {},
   "outputs": [],
   "source": []
  }
 ],
 "metadata": {
  "kernelspec": {
   "display_name": "Python 2",
   "language": "python",
   "name": "python2"
  },
  "language_info": {
   "codemirror_mode": {
    "name": "ipython",
    "version": 2
   },
   "file_extension": ".py",
   "mimetype": "text/x-python",
   "name": "python",
   "nbconvert_exporter": "python",
   "pygments_lexer": "ipython2",
   "version": "2.7.15rc1"
  }
 },
 "nbformat": 4,
 "nbformat_minor": 2
}
