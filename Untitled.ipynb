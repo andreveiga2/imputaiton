{
 "cells": [
  {
   "cell_type": "markdown",
   "metadata": {},
   "source": [
    "## Work Notes Related to Imputation Work given by Andre Veiga\n",
    "\n",
    "In essence we have 3 type of contracts, call them (0, 5, 10). We have rates associated with each type of contract. The data that we have will only have rate values when the particular contract is chosen. We need to impute the rest of the values.  "
   ]
  },
  {
   "cell_type": "markdown",
   "metadata": {},
   "source": [
    "### How the Matlab Script Works?\n",
    "\n",
    "We first load the dataset into matlab using load('data_subsample.mat'); \n",
    "\n",
    "To visualize this in python we first have to store it in 'v7' so we use **save('data_subsample.mat', '-v7');** in matlab. Then in Python:"
   ]
  },
  {
   "cell_type": "code",
   "execution_count": 3,
   "metadata": {},
   "outputs": [
    {
     "data": {
      "text/plain": [
       "{'__globals__': [],\n",
       " '__header__': 'MATLAB 5.0 MAT-file, Platform: GLNXA64, Created on: Sun Nov  4 12:50:58 2018',\n",
       " '__version__': '1.0',\n",
       " 'decision_gar': array([[10],\n",
       "        [10],\n",
       "        [10],\n",
       "        ...,\n",
       "        [10],\n",
       "        [10],\n",
       "        [ 5]], dtype=uint8),\n",
       " 'g_nr': array([[4],\n",
       "        [4],\n",
       "        [1],\n",
       "        ...,\n",
       "        [4],\n",
       "        [1],\n",
       "        [1]], dtype=uint8),\n",
       " 'obs_r0': array([[9.99],\n",
       "        [9.99],\n",
       "        [9.99],\n",
       "        ...,\n",
       "        [9.99],\n",
       "        [9.99],\n",
       "        [9.99]]),\n",
       " 'obs_r10': array([[0.05894766],\n",
       "        [0.05723996],\n",
       "        [0.06752951],\n",
       "        ...,\n",
       "        [0.06307468],\n",
       "        [0.07470413],\n",
       "        [9.99      ]]),\n",
       " 'obs_r5': array([[9.99      ],\n",
       "        [9.99      ],\n",
       "        [9.99      ],\n",
       "        ...,\n",
       "        [9.99      ],\n",
       "        [9.99      ],\n",
       "        [0.07535734]]),\n",
       " 'phi': array([[21614.215 ],\n",
       "        [ 7882.6049],\n",
       "        [14070.38  ],\n",
       "        ...,\n",
       "        [15680.844 ],\n",
       "        [32356.633 ],\n",
       "        [21743.009 ]]),\n",
       " 'tt': array([[ 1],\n",
       "        [ 1],\n",
       "        [ 1],\n",
       "        ...,\n",
       "        [24],\n",
       "        [24],\n",
       "        [24]], dtype=uint8)}"
      ]
     },
     "execution_count": 3,
     "metadata": {},
     "output_type": "execute_result"
    }
   ],
   "source": [
    "#all imports\n",
    "import sklearn.cluster as cluster\n",
    "import sklearn.mixture as mixture\n",
    "from sklearn import datasets\n",
    "from sklearn.model_selection import cross_val_predict\n",
    "from sklearn import linear_model\n",
    "import matplotlib.pyplot as plt\n",
    "from sklearn.model_selection import cross_val_score\n",
    "from sklearn import metrics\n",
    "from sklearn import svm\n",
    "from sklearn.model_selection import KFold\n",
    "from sklearn.gaussian_process import GaussianProcessRegressor\n",
    "from sklearn.ensemble import GradientBoostingRegressor\n",
    "from sklearn.gaussian_process import GaussianProcessRegressor\n",
    "from sklearn.neural_network import MLPRegressor\n",
    "import sklearn.decomposition as decomp\n",
    "from sklearn.model_selection import train_test_split\n",
    "import scipy.io as sio\n",
    "import numpy as np\n",
    "from scipy import stats\n",
    "\n",
    "test = sio.loadmat('data_subsample.mat')\n",
    "test"
   ]
  },
  {
   "cell_type": "code",
   "execution_count": 11,
   "metadata": {},
   "outputs": [],
   "source": [
    "# storing all variables as numpy arrays for ease of operations\n",
    "#np_a = np_a.reshape(mat_a.size).transpose()\n",
    "decision_gar = np.array(test['decision_gar'].tolist())\n",
    "g_nr = np.array(test['g_nr'].tolist())\n",
    "obs_r0 = np.array(test['obs_r0'].tolist())\n",
    "obs_r5 = np.array(test['obs_r5'].tolist())\n",
    "obs_r10 = np.array(test['obs_r10'].tolist())\n",
    "phi = np.array(test['phi'].tolist())\n",
    "tt = np.array(test['tt'].tolist())"
   ]
  },
  {
   "cell_type": "code",
   "execution_count": 16,
   "metadata": {},
   "outputs": [],
   "source": [
    "#if you need to transpose all of them from (11099 X 1) to (1X 11099)\n",
    "decision_gar = decision_gar.ravel()\n",
    "g_nr = g_nr.ravel()\n",
    "obs_r0 = obs_r0.ravel()\n",
    "obs_r5 = obs_r5.ravel()\n",
    "obs_r10 = obs_r10.ravel()\n",
    "phi = phi.ravel()\n",
    "tt = tt.ravel()"
   ]
  },
  {
   "cell_type": "code",
   "execution_count": 17,
   "metadata": {},
   "outputs": [
    {
     "data": {
      "text/plain": [
       "DescribeResult(nobs=11099, minmax=(0.05098441, 9.99), mean=8.607397066644742, variance=11.813117008860784, skewness=-2.083509491034911, kurtosis=2.3410144613692756)"
      ]
     },
     "execution_count": 17,
     "metadata": {},
     "output_type": "execute_result"
    }
   ],
   "source": [
    "np.seterr(divide='ignore', invalid='ignore')\n",
    "stats.describe(obs_r0)"
   ]
  },
  {
   "cell_type": "markdown",
   "metadata": {},
   "source": [
    "Then we use this command to call the impute function, \n",
    "**hh = impute( g_nr, phi, tt, decision_gar, obs_r0, obs_r5, obs_r10, method);** This is discussed in detail in impute_script_notes"
   ]
  },
  {
   "cell_type": "code",
   "execution_count": 39,
   "metadata": {},
   "outputs": [],
   "source": [
    "def impute( g_nr, phi, time, decision, obs_r0, obs_r5, obs_r10, method):\n",
    "    GAR_levels = [0, 5, 10]\n",
    "    for i in xrange(1, 5):\n",
    "        print \"Imputing group: \", i, \", Method: \", method\n",
    "        \n",
    "        g_nr_i, phi_i, time_i = [], [], []\n",
    "        # could use iter to create code more pythonic but won't serve\n",
    "        # any other purpose\n",
    "        \n",
    "        for a in xrange(len(g_nr)):\n",
    "            \n",
    "            if g_nr[a] == i:\n",
    "                g_nr_i.append(g_nr[a])\n",
    "                phi_i.append(phi[a])\n",
    "                time_i.append(time[a])\n",
    "        \n",
    "        for gar_j in GAR_levels:\n",
    "            \n",
    "            g_nr_ij, phi_ij, time_ij, r_ij = [], [], [], []\n",
    "            for a in xrange(len(g_nr)):\n",
    "                \n",
    "                if g_nr[a] == i and decision[a] == gar_j:\n",
    "                    g_nr_ij.append(g_nr[a])\n",
    "                    phi_ij.append(phi[a])\n",
    "                    time_ij.append(time[a])\n",
    "                    \n",
    "                    if gar_j ==0:\n",
    "                        r_ij.append(obs_r0[a])\n",
    "                    elif gar_j == 5:\n",
    "                        r_ij.append(obs_r5[a])\n",
    "                    else:\n",
    "                        r_ij.append(obs_r10[a])\n",
    "        \n",
    "        predictors = np.column_stack((phi_ij,time_ij))\n",
    "        target = np.array(r_ij)\n",
    "        predict_at = np.column_stack((phi_i,time_i))\n",
    "        return (predictors, target, predict_at)\n",
    "        #r_predicted_ij = impute_inner(predictors, target, predict_at, method)\n",
    "        "
   ]
  },
  {
   "cell_type": "code",
   "execution_count": 40,
   "metadata": {},
   "outputs": [],
   "source": [
    "def accuracy(y, pred_y):\n",
    "    acc = sum(abs(y-pred_y))/len(y)\n",
    "    return acc; "
   ]
  },
  {
   "cell_type": "code",
   "execution_count": 66,
   "metadata": {},
   "outputs": [],
   "source": [
    "# KFold used to split data into 2 parts\n",
    "# It was important to shuffle the data otherwise models gave terrible results\n",
    "kf = KFold(n_splits=2, shuffle=True)"
   ]
  },
  {
   "cell_type": "code",
   "execution_count": 67,
   "metadata": {},
   "outputs": [],
   "source": [
    "def volfeat( a, b):\n",
    "    return np.array([a, b, a+b, a**2, b**2, (a+b)**2])"
   ]
  },
  {
   "cell_type": "code",
   "execution_count": 68,
   "metadata": {},
   "outputs": [],
   "source": [
    "def no_volfeat( a, b):\n",
    "    return np.array([a, b])"
   ]
  },
  {
   "cell_type": "code",
   "execution_count": 69,
   "metadata": {},
   "outputs": [
    {
     "name": "stdout",
     "output_type": "stream",
     "text": [
      "Imputing group:  1 , Method:  RF\n",
      "(666, 6) (666,)\n"
     ]
    }
   ],
   "source": [
    "method = 'RF'\n",
    "X, y, _ = impute( g_nr, phi, tt, decision_gar, obs_r0, obs_r5, obs_r10, method)\n",
    "A = volfeat(X[0][0],X[0][1])\n",
    "Index=1\n",
    "while Index < X.shape[0]:\n",
    "    A = np.vstack((A,volfeat(X[Index][0],X[Index][1])))\n",
    "    Index += 1\n",
    "                \n",
    "print A.shape, y.shape\n",
    "\n"
   ]
  },
  {
   "cell_type": "code",
   "execution_count": 70,
   "metadata": {},
   "outputs": [
    {
     "name": "stdout",
     "output_type": "stream",
     "text": [
      "For Linear Regression: \n",
      "\n",
      "[0.76493254 0.64273665]\n"
     ]
    },
    {
     "data": {
      "image/png": "[encoded data removed]",
      "text/plain": [
       "<Figure size 432x288 with 1 Axes>"
      ]
     },
     "metadata": {
      "needs_background": "light"
     },
     "output_type": "display_data"
    },
    {
     "name": "stdout",
     "output_type": "stream",
     "text": [
      "error rate : \n",
      "0.0013274724489790379\n"
     ]
    }
   ],
   "source": [
    "                #applying linear regression\n",
    "lr = linear_model.LinearRegression()\n",
    "#cross_val_predict used to get predicted values\n",
    "#cv set to KF\n",
    "predicted = cross_val_predict(lr, A, y, cv=kf)\n",
    "#returns R square\n",
    "scores = cross_val_score(lr, A, y, cv=kf)\n",
    "print('For Linear Regression: \\n')\n",
    "print(scores);\n",
    "#for plotting\n",
    "fig, ax = plt.subplots()\n",
    "ax.scatter(y, predicted, edgecolors=(0, 0, 0))\n",
    "ax.plot([y.min(), y.max()], [y.min(), y.max()], 'k--', lw=4)\n",
    "ax.set_xlabel('Measured')\n",
    "ax.set_ylabel('Predicted')\n",
    "plt.show()\n",
    "print('error rate : ')\n",
    "print(accuracy(y,predicted));"
   ]
  },
  {
   "cell_type": "code",
   "execution_count": 71,
   "metadata": {},
   "outputs": [
    {
     "name": "stdout",
     "output_type": "stream",
     "text": [
      "For Ridge Regression: \n",
      "\n",
      "[0.67591532 0.7137996 ]\n"
     ]
    },
    {
     "data": {
      "image/png": "[encoded data removed]",
      "text/plain": [
       "<Figure size 432x288 with 1 Axes>"
      ]
     },
     "metadata": {
      "needs_background": "light"
     },
     "output_type": "display_data"
    },
    {
     "name": "stdout",
     "output_type": "stream",
     "text": [
      "0.0012986518402242071\n"
     ]
    }
   ],
   "source": [
    "#applying ridge regression\n",
    "#RidgeCV implements ridge regression with built-in cross-validation of the alpha parameter. \n",
    "reg = linear_model.RidgeCV(alphas=(0.1, 1.0, 100.0), normalize=True)\n",
    "predicted = cross_val_predict(reg, A, y, cv=kf)\n",
    "scores = cross_val_score(reg, A, y, cv=kf)\n",
    "print('For Ridge Regression: \\n')\n",
    "print(scores);\n",
    "fig, ax = plt.subplots()\n",
    "ax.scatter(y, predicted, edgecolors=(0, 0, 0))\n",
    "ax.plot([y.min(), y.max()], [y.min(), y.max()], 'k--', lw=4)\n",
    "ax.set_xlabel('Measured')\n",
    "ax.set_ylabel('Predicted')\n",
    "plt.show()\n",
    "print(accuracy(y,predicted));"
   ]
  },
  {
   "cell_type": "code",
   "execution_count": 87,
   "metadata": {},
   "outputs": [
    {
     "name": "stdout",
     "output_type": "stream",
     "text": [
      "For MLP Regressor: \n",
      "\n",
      "[-1.20716097e+03 -2.81019123e+16]\n"
     ]
    },
    {
     "data": {
      "image/png": "[encoded data removed]",
      "text/plain": [
       "<Figure size 432x288 with 1 Axes>"
      ]
     },
     "metadata": {
      "needs_background": "light"
     },
     "output_type": "display_data"
    },
    {
     "name": "stdout",
     "output_type": "stream",
     "text": [
      "24.565996153487475\n"
     ]
    }
   ],
   "source": [
    "#applying MLP\n",
    "#Multi-layer Perceptron regressor.\n",
    "#This model optimizes the squared-loss using LBFGS or stochastic gradient descent.\n",
    "#sensitive to all values given below\n",
    "#momentum and others which were not related to our config were ignored\n",
    "#again a complete grid test could give better results and account for inter dependence\n",
    "reg = MLPRegressor( hidden_layer_sizes=(1000,), solver='adam', alpha = 0.01, batch_size='auto',\n",
    "    learning_rate='adaptive', learning_rate_init=0.07, max_iter=1000000, verbose=False, warm_start=False)\n",
    "\n",
    "predicted = cross_val_predict(reg, A, y, cv=kf)\n",
    "scores = cross_val_score(reg, A, y, cv=kf)\n",
    "print('For MLP Regressor: \\n')\n",
    "print(scores);\n",
    "fig, ax = plt.subplots()\n",
    "ax.scatter(y, predicted, edgecolors=(0, 0, 0))\n",
    "ax.plot([y.min(), y.max()], [y.min(), y.max()], 'k--', lw=4)\n",
    "ax.set_xlabel('Measured')\n",
    "ax.set_ylabel('Predicted')\n",
    "plt.show()\n",
    "print(accuracy(y,predicted))"
   ]
  },
  {
   "cell_type": "code",
   "execution_count": null,
   "metadata": {},
   "outputs": [],
   "source": []
  }
 ],
 "metadata": {
  "kernelspec": {
   "display_name": "Python 2",
   "language": "python",
   "name": "python2"
  },
  "language_info": {
   "codemirror_mode": {
    "name": "ipython",
    "version": 2
   },
   "file_extension": ".py",
   "mimetype": "text/x-python",
   "name": "python",
   "nbconvert_exporter": "python",
   "pygments_lexer": "ipython2",
   "version": "2.7.15rc1"
  }
 },
 "nbformat": 4,
 "nbformat_minor": 2
}
