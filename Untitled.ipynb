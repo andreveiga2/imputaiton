{
 "cells": [
  {
   "cell_type": "markdown",
   "metadata": {},
   "source": [
    "## Work Notes Related to Imputation Work given by Andre Veiga\n",
    "\n",
    "In essence we have 3 type of contracts, call them (0, 5, 10). We have rates associated with each type of contract. The data that we have will only have rate values when the particular contract is chosen. We need to impute the rest of the values.  "
   ]
  },
  {
   "cell_type": "markdown",
   "metadata": {},
   "source": [
    "### How the Matlab Script Works?\n",
    "\n",
    "We first load the dataset into matlab using load('data_subsample.mat'); \n",
    "\n",
    "To visualize this in python we first have to store it in 'v7' so we use **save('data_subsample.mat', '-v7');** in matlab. Then in Python:"
   ]
  },
  {
   "cell_type": "code",
   "execution_count": 31,
   "metadata": {},
   "outputs": [
    {
     "data": {
      "text/plain": [
       "{'__globals__': [],\n",
       " '__header__': 'MATLAB 5.0 MAT-file, Platform: GLNXA64, Created on: Sun Nov  4 12:50:58 2018',\n",
       " '__version__': '1.0',\n",
       " 'decision_gar': array([[10],\n",
       "        [10],\n",
       "        [10],\n",
       "        ...,\n",
       "        [10],\n",
       "        [10],\n",
       "        [ 5]], dtype=uint8),\n",
       " 'g_nr': array([[4],\n",
       "        [4],\n",
       "        [1],\n",
       "        ...,\n",
       "        [4],\n",
       "        [1],\n",
       "        [1]], dtype=uint8),\n",
       " 'obs_r0': array([[9.99],\n",
       "        [9.99],\n",
       "        [9.99],\n",
       "        ...,\n",
       "        [9.99],\n",
       "        [9.99],\n",
       "        [9.99]]),\n",
       " 'obs_r10': array([[0.05894766],\n",
       "        [0.05723996],\n",
       "        [0.06752951],\n",
       "        ...,\n",
       "        [0.06307468],\n",
       "        [0.07470413],\n",
       "        [9.99      ]]),\n",
       " 'obs_r5': array([[9.99      ],\n",
       "        [9.99      ],\n",
       "        [9.99      ],\n",
       "        ...,\n",
       "        [9.99      ],\n",
       "        [9.99      ],\n",
       "        [0.07535734]]),\n",
       " 'phi': array([[21614.215 ],\n",
       "        [ 7882.6049],\n",
       "        [14070.38  ],\n",
       "        ...,\n",
       "        [15680.844 ],\n",
       "        [32356.633 ],\n",
       "        [21743.009 ]]),\n",
       " 'tt': array([[ 1],\n",
       "        [ 1],\n",
       "        [ 1],\n",
       "        ...,\n",
       "        [24],\n",
       "        [24],\n",
       "        [24]], dtype=uint8)}"
      ]
     },
     "execution_count": 31,
     "metadata": {},
     "output_type": "execute_result"
    }
   ],
   "source": [
    "import scipy.io as sio\n",
    "import numpy as np\n",
    "from scipy import stats\n",
    "\n",
    "test = sio.loadmat('data_subsample.mat')\n",
    "test"
   ]
  },
  {
   "cell_type": "code",
   "execution_count": 36,
   "metadata": {},
   "outputs": [],
   "source": [
    "# storing all variables as numpy arrays for ease of operations\n",
    "decision_gar = np.array(test['decision_gar'])\n",
    "g_nr = np.array(test['g_nr'])\n",
    "obs_r0 = np.array(test['obs_r0'])\n",
    "obs_r5 = np.array(test['obs_r5'])\n",
    "obs_r10 = np.array(test['obs_r10'])\n",
    "phi = np.array(test['phi'])\n",
    "tt = np.array(test['tt'])"
   ]
  },
  {
   "cell_type": "code",
   "execution_count": 33,
   "metadata": {},
   "outputs": [],
   "source": [
    "# if you need to transpose all of them from (11099 X 1) to (1X 11099)\n",
    "# decision_gar = decision_gar.T\n",
    "# g_nr = g_nr.T\n",
    "# obs_r0 = obs_r0.T\n",
    "# obs_r5 = obs_r5.T\n",
    "# obs_r10 = obs_r10.T\n",
    "# phi = phi.T\n",
    "# tt = tt.T"
   ]
  },
  {
   "cell_type": "code",
   "execution_count": 61,
   "metadata": {},
   "outputs": [
    {
     "data": {
      "text/plain": [
       "DescribeResult(nobs=11099, minmax=(array([nan]), array([nan])), mean=array([nan]), variance=array([nan]), skewness=array([nan]), kurtosis=array([nan]))"
      ]
     },
     "execution_count": 61,
     "metadata": {},
     "output_type": "execute_result"
    }
   ],
   "source": [
    "np.seterr(divide='ignore', invalid='ignore')\n",
    "stats.describe(obs_r0)"
   ]
  },
  {
   "cell_type": "markdown",
   "metadata": {},
   "source": [
    "Then we use this command to call the impute function, \n",
    "**hh = impute( g_nr, phi, tt, decision_gar, obs_r0, obs_r5, obs_r10, method);** This is discussed in detail in impute_script_notes"
   ]
  }
 ],
 "metadata": {
  "kernelspec": {
   "display_name": "Python 2",
   "language": "python",
   "name": "python2"
  },
  "language_info": {
   "codemirror_mode": {
    "name": "ipython",
    "version": 2
   },
   "file_extension": ".py",
   "mimetype": "text/x-python",
   "name": "python",
   "nbconvert_exporter": "python",
   "pygments_lexer": "ipython2",
   "version": "2.7.15rc1"
  }
 },
 "nbformat": 4,
 "nbformat_minor": 2
}
