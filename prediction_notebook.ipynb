{
 "cells": [
  {
   "cell_type": "markdown",
   "metadata": {},
   "source": [
    "## Master Jupyter Notebook for predicting rates based on csv_data"
   ]
  },
  {
   "cell_type": "code",
   "execution_count": 1,
   "metadata": {},
   "outputs": [],
   "source": [
    "%matplotlib inline\n",
    "%run prediction_script"
   ]
  },
  {
   "cell_type": "code",
   "execution_count": 2,
   "metadata": {},
   "outputs": [],
   "source": [
    "# print load_data.__doc__"
   ]
  },
  {
   "cell_type": "code",
   "execution_count": 3,
   "metadata": {},
   "outputs": [],
   "source": [
    "# Function to load all data from csv in csv_data\n",
    "# returned data object is only for visualization purposes\n",
    "data = load_data(\"data_JMP_impute.csv\")\n",
    "# uncomment the next line to see the data\n",
    "#data.info()\n",
    "#data"
   ]
  },
  {
   "cell_type": "code",
   "execution_count": 6,
   "metadata": {},
   "outputs": [
    {
     "name": "stdout",
     "output_type": "stream",
     "text": [
      "\n",
      "    Function to split csv data into a training X and Y and test X and Y\n",
      "    Standardize features by removing the mean and scaling to unit variance\n",
      "\n",
      "    Parameters\n",
      "    ----------\n",
      "    training_variables_type: int, Default 4,\n",
      "                             if 1 then use training_variables_smallest\n",
      "                             if 2 then use training_variables_small\n",
      "                             if 3 then use training_variables_new\n",
      "                             if 4 then use training_variables_large\n",
      "\n",
      "    split_percentage: int, Default 0.08,\n",
      "                      define the test set proportion\n",
      "                      Example if 0.08, then training set is 92% and test set is 8%\n",
      "    Returns\n",
      "    ----------\n",
      "    X_train: predictor data for training\n",
      "    y_train: target for training\n",
      "    X_test: predictor data for testin/g\n",
      "    y_test: target for testing\n",
      "\n",
      "    Raises\n",
      "    ----------\n",
      "    ValueError if wrong type is given as argument\n",
      "    \n"
     ]
    }
   ],
   "source": [
    "# print create_training_set.__doc__"
   ]
  },
  {
   "cell_type": "code",
   "execution_count": 5,
   "metadata": {},
   "outputs": [],
   "source": [
    "# Function to split csv data into a training X and Y and test X and Y\n",
    "(X_train, X_test, y_train, y_test) = create_training_set(training_variables_type = 4, split_percentage = 0.08)\n",
    "# uncomment next line to see dimensions of data\n",
    "# print(X_train.shape, X_test.shape, y_train.shape, y_test.shape)"
   ]
  },
  {
   "cell_type": "code",
   "execution_count": null,
   "metadata": {},
   "outputs": [],
   "source": []
  },
  {
   "cell_type": "code",
   "execution_count": null,
   "metadata": {},
   "outputs": [],
   "source": []
  }
 ],
 "metadata": {
  "kernelspec": {
   "display_name": "Python 2",
   "language": "python",
   "name": "python2"
  },
  "language_info": {
   "codemirror_mode": {
    "name": "ipython",
    "version": 2
   },
   "file_extension": ".py",
   "mimetype": "text/x-python",
   "name": "python",
   "nbconvert_exporter": "python",
   "pygments_lexer": "ipython2",
   "version": "2.7.15rc1"
  }
 },
 "nbformat": 4,
 "nbformat_minor": 2
}
