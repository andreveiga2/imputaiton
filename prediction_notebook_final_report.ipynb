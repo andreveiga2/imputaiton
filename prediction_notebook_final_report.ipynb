{
 "cells": [
  {
   "cell_type": "markdown",
   "metadata": {},
   "source": [
    "## Master Jupyter Notebook for predicting rates based on csv_data"
   ]
  },
  {
   "cell_type": "code",
   "execution_count": 1,
   "metadata": {},
   "outputs": [],
   "source": [
    "# allows graphs to be printed inline\n",
    "%matplotlib inline\n",
    "# run the python script\n",
    "%run prediction_script_final"
   ]
  },
  {
   "cell_type": "code",
   "execution_count": 2,
   "metadata": {},
   "outputs": [],
   "source": [
    "# To print the documentation for any function defined in predicition_script, use:\n",
    "# print(function_name.__doc__)\n",
    "# Example:\n",
    "# print(load_data.__doc__)"
   ]
  },
  {
   "cell_type": "code",
   "execution_count": 3,
   "metadata": {},
   "outputs": [],
   "source": [
    "# Function to load all data from csv in csv_data\n",
    "# assumes csv file \"data_JMP_impute.csv\" is in the same folder as jupyter\n",
    "data = load_data(\"data_JMP_impute.csv\")\n",
    "# uncomment the next line to see the data\n",
    "#data.info()\n",
    "#data"
   ]
  },
  {
   "cell_type": "code",
   "execution_count": 4,
   "metadata": {},
   "outputs": [],
   "source": [
    "# Function to split csv data into a training X and Y and test X and Y\n",
    "(X_train, X_test, y_train, y_test) = create_training_set()\n",
    "# uncomment next line to see dimensions of data\n",
    "# print(X_train.shape, X_test.shape, y_train.shape, y_test.shape)"
   ]
  },
  {
   "cell_type": "markdown",
   "metadata": {},
   "source": [
    "To be calculated again\n",
    "\n",
    "('Lowest Error: (', 'logistic', 'adam', 10, 0.060000000000000005, 6.550900586097088)\n",
    "\n",
    "('Lowest Error: (', 'relu', 'adam', 100, 0.09999999999999999, 6.920795721270003)\n",
    "\n",
    "The best that we have:\n",
    "training_variables_new = \t['decision_gar','buy_age', 'YM', 'male']\n",
    "\n",
    "('Lowest Error: (', 'relu', 'adam', 100, 0.05, 4.549973974801137)\n",
    "\n",
    "('Lowest Error: (', 'relu', 'adam', 100, 0.04, 0.0004, 4.448231151896966)\n"
   ]
  },
  {
   "cell_type": "code",
   "execution_count": null,
   "metadata": {},
   "outputs": [
    {
     "name": "stdout",
     "output_type": "stream",
     "text": [
      "2  /  1820\n",
      "3  /  1820\n",
      "4  /  1820\n",
      "5  /  1820\n",
      "6  /  1820\n",
      "7  /  1820\n",
      "8  /  1820\n",
      "9  /  1820\n",
      "10  /  1820\n",
      "11  /  1820\n",
      "12  /  1820\n",
      "13  /  1820\n",
      "14  /  1820\n",
      "15  /  1820\n",
      "16  /  1820\n",
      "17  /  1820\n",
      "18  /  1820\n",
      "19  /  1820\n",
      "20  /  1820\n",
      "21  /  1820\n",
      "22  /  1820\n",
      "23  /  1820\n",
      "24  /  1820\n",
      "25  /  1820\n",
      "26  /  1820\n",
      "27  /  1820\n",
      "28  /  1820\n",
      "29  /  1820\n",
      "30  /  1820\n",
      "31  /  1820\n",
      "32  /  1820\n",
      "33  /  1820\n",
      "34  /  1820\n",
      "35  /  1820\n",
      "36  /  1820\n",
      "37  /  1820\n",
      "38  /  1820\n",
      "39  /  1820\n",
      "40  /  1820\n",
      "41  /  1820\n",
      "42  /  1820\n",
      "43  /  1820\n",
      "44  /  1820\n",
      "45  /  1820\n",
      "46  /  1820\n",
      "47  /  1820\n",
      "48  /  1820\n",
      "49  /  1820\n",
      "50  /  1820\n",
      "51  /  1820\n",
      "52  /  1820\n",
      "53  /  1820\n",
      "54  /  1820\n",
      "55  /  1820\n",
      "56  /  1820\n",
      "57  /  1820\n",
      "58  /  1820\n",
      "59  /  1820\n",
      "60  /  1820\n",
      "61  /  1820\n",
      "62  /  1820\n",
      "63  /  1820\n",
      "64  /  1820\n",
      "65  /  1820\n",
      "66  /  1820\n",
      "67  /  1820\n",
      "68  /  1820\n",
      "69  /  1820\n",
      "70  /  1820\n",
      "71  /  1820\n",
      "72  /  1820\n",
      "73  /  1820\n",
      "74  /  1820\n",
      "75  /  1820\n",
      "76  /  1820\n",
      "77  /  1820\n",
      "78  /  1820\n",
      "79  /  1820\n",
      "80  /  1820\n"
     ]
    }
   ],
   "source": [
    "prediction(X_train, y_train, X_test, y_test)"
   ]
  },
  {
   "cell_type": "code",
   "execution_count": null,
   "metadata": {},
   "outputs": [],
   "source": []
  }
 ],
 "metadata": {
  "kernelspec": {
   "display_name": "Python 3",
   "language": "python",
   "name": "python3"
  },
  "language_info": {
   "codemirror_mode": {
    "name": "ipython",
    "version": 3
   },
   "file_extension": ".py",
   "mimetype": "text/x-python",
   "name": "python",
   "nbconvert_exporter": "python",
   "pygments_lexer": "ipython3",
   "version": "3.6.6"
  }
 },
 "nbformat": 4,
 "nbformat_minor": 2
}
